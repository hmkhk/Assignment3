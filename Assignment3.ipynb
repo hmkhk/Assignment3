{
 "cells": [
  {
   "cell_type": "code",
   "execution_count": 13,
   "metadata": {},
   "outputs": [
    {
     "name": "stdout",
     "output_type": "stream",
     "text": [
      "Trying to divide 5/0\n",
      "Error!.division by zero\n"
     ]
    }
   ],
   "source": [
    "#TASK1 - 1.Write a function to compute 5/0 and use try/except to catch the exceptions.\n",
    "def divint():\n",
    "        try:\n",
    "            print(\"Trying to divide 5/0\")\n",
    "            val = 5/0\n",
    "            print(val) \n",
    "        except ZeroDivisionError as error:\n",
    "            print(\"Error!.\" + str(error))\n",
    "        except Exception as exception:\n",
    "             print(\"Error!.\" + str(exception))\n",
    "        else:\n",
    "            print('Done!')\n",
    "           \n",
    "divint()"
   ]
  },
  {
   "cell_type": "code",
   "execution_count": 17,
   "metadata": {},
   "outputs": [
    {
     "name": "stdout",
     "output_type": "stream",
     "text": [
      "Americans  play Baseball\n",
      "Americans  play Cricket\n",
      "Americans  watch Baseball\n",
      "Americans  watch Cricket\n",
      "Indians play Baseball\n",
      "Indians play Cricket\n",
      "Indians watch Baseball\n",
      "Indians watch Cricket\n"
     ]
    }
   ],
   "source": [
    "#TASK1 - 2.\n",
    "#Implement a Python program to generate all sentences where subject is in [\"Americans\",\n",
    "#\"Indians\"] and verb is in [\"Play\", \"watch\"] and the object is in [\"Baseball\",\"cricket\"].\n",
    "\n",
    "subjects = [\"Americans \",\"Indians\"]\n",
    "verbs = [\"play\",\"watch\"]\n",
    "objects = [\"Baseball\",\"Cricket\"]\n",
    "sp = \" \"\n",
    "\n",
    "def sent1(s,v,o):\n",
    "    for x in s:\n",
    "        for y in v:\n",
    "            for z in o:\n",
    "                print(x + sp + y + sp + z)\n",
    "\n",
    "# Now all three lists\n",
    "sent1(subjects,verbs,objects)\n",
    "\n"
   ]
  },
  {
   "cell_type": "code",
   "execution_count": 49,
   "metadata": {
    "scrolled": true
   },
   "outputs": [
    {
     "name": "stdout",
     "output_type": "stream",
     "text": [
      "[[1, 1, 1, 1, 1, 1, 1], [1, 2, 4, 8, 16, 32, 64], [1, 3, 9, 27, 81, 243, 729], [1, 4, 16, 64, 256, 1024, 4096], [1, 5, 25, 125, 625, 3125, 15625], [1, 6, 36, 216, 1296, 7776, 46656], [1, 7, 49, 343, 2401, 16807, 117649]]\n"
     ]
    }
   ],
   "source": [
    "#TASK2 - 1.\n",
    "#Write a function so that the columns of the output matrix are powers of the input vector.\n",
    "\n",
    "import numpy as num\n",
    "n = 7\n",
    "pow = 7\n",
    "matrix=[]\n",
    "\n",
    "for i in range(1, n+1):\n",
    "    row = []\n",
    "    b = 0\n",
    "    increasing = True\n",
    "    #print(i)\n",
    "    while increasing:\n",
    "        row.append(i**b)\n",
    "        b += 1\n",
    "        if (b == pow):\n",
    "            increasing = False\n",
    "    matrix.append(row)\n",
    "    #print(row)\n",
    "\n",
    "print(matrix)\n",
    "\n"
   ]
  },
  {
   "cell_type": "code",
   "execution_count": null,
   "metadata": {},
   "outputs": [],
   "source": []
  },
  {
   "cell_type": "code",
   "execution_count": null,
   "metadata": {},
   "outputs": [],
   "source": []
  },
  {
   "cell_type": "code",
   "execution_count": null,
   "metadata": {},
   "outputs": [],
   "source": []
  }
 ],
 "metadata": {
  "kernelspec": {
   "display_name": "Python 3",
   "language": "python",
   "name": "python3"
  },
  "language_info": {
   "codemirror_mode": {
    "name": "ipython",
    "version": 3
   },
   "file_extension": ".py",
   "mimetype": "text/x-python",
   "name": "python",
   "nbconvert_exporter": "python",
   "pygments_lexer": "ipython3",
   "version": "3.7.6"
  }
 },
 "nbformat": 4,
 "nbformat_minor": 4
}
